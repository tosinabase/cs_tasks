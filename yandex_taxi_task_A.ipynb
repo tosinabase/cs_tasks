{
 "cells": [
  {
   "cell_type": "markdown",
   "metadata": {},
   "source": [
    "# Task A. Группировка рекомендуемых точек подачи на прямой\n",
    "Известны точки на улице, куда подъехали водители. Назовём их точками прибытия.  \n",
    "Приложение запоминает точки прибытия и на их основе просчитывает рекомендуемые точки подачи.  \n",
    "Точки подачи нужны, чтобы приложение порекомендовало пользователю, куда лучше заказать автомобиль.  \n",
    "Сформируйте из точек прибытия на улице Льва Толстого наименьшее количество рекомендуемых точек подачи.  \n",
    "Каждая рекомендуемая точка должна быть одной из списка точек прибытия.  \n",
    "Расстояние от каждой точки прибытия до ближайшей рекомендуемой не должно превосходить R.  \n",
    "\n",
    "### Формат ввода\n",
    "В первой строке задаётся два числа  \n",
    "N (0 ≤ N ≤ 105) и R (0 ≤ R ≤ 109) через пробел.  \n",
    "В следующей строке записано N целых чисел (координаты точек),  \n",
    "каждое из которых по абсолютной величине не превосходит 109.  \n",
    "\n",
    "### Формат вывода\n",
    "Выведите одно целое число - какое наименьшее количество  \n",
    "точек надо выбрать в качестве рекомендуемых точек подачи."
   ]
  },
  {
   "cell_type": "code",
   "execution_count": 44,
   "metadata": {},
   "outputs": [],
   "source": [
    "# Пример 1\n",
    "# ----------------------\n",
    "# Ввод            Вывод\n",
    "# 3 2             1\n",
    "# 3 5 1\n",
    "# ----------------------\n",
    "# Пример 2\n",
    "# Ввод\t        Вывод\n",
    "# 3 2             3\n",
    "# 4 7 1\n",
    "# ----------------------\n",
    "# Пример 3\n",
    "# Ввод\t        Вывод\n",
    "# 6 1             2\n",
    "# 6 2 4 3 5 1\n",
    "# ----------------------"
   ]
  },
  {
   "cell_type": "markdown",
   "metadata": {},
   "source": [
    "### Моя формулировка задачи:  \n",
    "Дано: конечное множество X на числовой прямой, число r.  \n",
    "Покрыть множество X окрестностями его точек так,  \n",
    "чтобы количество окрестностей было минимальным  \n",
    "(все окрестности имеют фиксированный радиус r)."
   ]
  },
  {
   "cell_type": "markdown",
   "metadata": {},
   "source": [
    "### Решение"
   ]
  },
  {
   "cell_type": "code",
   "execution_count": 45,
   "metadata": {},
   "outputs": [],
   "source": [
    "def recommended_points(points, r):\n",
    "    points.sort()\n",
    "    unique_points = [points[0]]\n",
    "    previous_point = points[0]\n",
    "    for i in range(1, len(points)):\n",
    "        if points[i] != previous_point:\n",
    "            unique_points.append(points[i])\n",
    "            previous_point = points[i]\n",
    "            \n",
    "    centers_count = 1\n",
    "    centers = []\n",
    "    k = s = 0\n",
    "    for i in range(1, len(unique_points)):\n",
    "        if unique_points[i] - unique_points[k] > r:\n",
    "            if unique_points[k + 1] - unique_points[s] <= r and unique_points[i] - unique_points[k + 1] <= r:\n",
    "                 k += 1\n",
    "            else:\n",
    "                centers.append(unique_points[k])\n",
    "                centers_count += 1\n",
    "                k = s = i\n",
    "    centers.append(unique_points[k])\n",
    "    return centers_count, centers"
   ]
  },
  {
   "cell_type": "markdown",
   "metadata": {},
   "source": [
    "### Демонстрация:"
   ]
  },
  {
   "cell_type": "code",
   "execution_count": 46,
   "metadata": {},
   "outputs": [],
   "source": [
    "import numpy as np\n",
    "import matplotlib.pyplot as plt"
   ]
  },
  {
   "cell_type": "code",
   "execution_count": 47,
   "metadata": {},
   "outputs": [],
   "source": [
    "def demonstration(points, r):\n",
    "    centers_count, centers = recommended_points(points, r)\n",
    "    print('Radius:', r)\n",
    "    print('The number of recommended points:', centers_count) \n",
    "    print('Centers:', centers) \n",
    "    plt.scatter(points, np.zeros(len(points)))\n",
    "    plt.scatter(centers, np.zeros(len(centers)), c = 'r')\n",
    "    plt.show()"
   ]
  },
  {
   "cell_type": "code",
   "execution_count": 48,
   "metadata": {},
   "outputs": [],
   "source": [
    "points = [1, 2, 3, 5, 6, 11, 12, 14, 15, 16]"
   ]
  },
  {
   "cell_type": "code",
   "execution_count": 49,
   "metadata": {},
   "outputs": [
    {
     "name": "stdout",
     "output_type": "stream",
     "text": [
      "Radius: 3\n",
      "The number of recommended points: 2\n",
      "Centers: [3, 14]\n"
     ]
    },
    {
     "data": {
      "image/png": "[encoded data removed]",
      "text/plain": [
       "<Figure size 432x288 with 1 Axes>"
      ]
     },
     "metadata": {
      "needs_background": "light"
     },
     "output_type": "display_data"
    }
   ],
   "source": [
    "demonstration(points, 3)"
   ]
  },
  {
   "cell_type": "code",
   "execution_count": 50,
   "metadata": {},
   "outputs": [
    {
     "name": "stdout",
     "output_type": "stream",
     "text": [
      "Radius: 4\n",
      "The number of recommended points: 2\n",
      "Centers: [2, 12]\n"
     ]
    },
    {
     "data": {
      "image/png": "[encoded data removed]",
      "text/plain": [
       "<Figure size 432x288 with 1 Axes>"
      ]
     },
     "metadata": {
      "needs_background": "light"
     },
     "output_type": "display_data"
    }
   ],
   "source": [
    "demonstration(points, 4)"
   ]
  },
  {
   "cell_type": "code",
   "execution_count": 51,
   "metadata": {},
   "outputs": [
    {
     "name": "stdout",
     "output_type": "stream",
     "text": [
      "Radius: 2\n",
      "The number of recommended points: 4\n",
      "Centers: [1, 5, 12, 15]\n"
     ]
    },
    {
     "data": {
      "image/png": "[encoded data removed]",
      "text/plain": [
       "<Figure size 432x288 with 1 Axes>"
      ]
     },
     "metadata": {
      "needs_background": "light"
     },
     "output_type": "display_data"
    }
   ],
   "source": [
    "demonstration(points, 2)"
   ]
  },
  {
   "cell_type": "code",
   "execution_count": 54,
   "metadata": {},
   "outputs": [
    {
     "name": "stdout",
     "output_type": "stream",
     "text": [
      "Radius: 2\n",
      "The number of recommended points: 2\n",
      "Centers: [3, 6]\n"
     ]
    },
    {
     "data": {
      "image/png": "[encoded data removed]",
      "text/plain": [
       "<Figure size 432x288 with 1 Axes>"
      ]
     },
     "metadata": {
      "needs_background": "light"
     },
     "output_type": "display_data"
    }
   ],
   "source": [
    "demonstration([6, 2, 4, 3, 5, 1], 2)"
   ]
  },
  {
   "cell_type": "code",
   "execution_count": 56,
   "metadata": {},
   "outputs": [],
   "source": [
    "points = list(range(0, 11))*15 + list(range(25, 36))*34"
   ]
  },
  {
   "cell_type": "code",
   "execution_count": 57,
   "metadata": {},
   "outputs": [
    {
     "name": "stdout",
     "output_type": "stream",
     "text": [
      "Radius: 5\n",
      "The number of recommended points: 2\n",
      "Centers: [5, 30]\n"
     ]
    },
    {
     "data": {
      "image/png": "[encoded data removed]",
      "text/plain": [
       "<Figure size 432x288 with 1 Axes>"
      ]
     },
     "metadata": {
      "needs_background": "light"
     },
     "output_type": "display_data"
    }
   ],
   "source": [
    "demonstration(points, 5)"
   ]
  },
  {
   "cell_type": "code",
   "execution_count": null,
   "metadata": {},
   "outputs": [],
   "source": []
  }
 ],
 "metadata": {
  "kernelspec": {
   "display_name": "Python 3",
   "language": "python",
   "name": "python3"
  },
  "language_info": {
   "codemirror_mode": {
    "name": "ipython",
    "version": 3
   },
   "file_extension": ".py",
   "mimetype": "text/x-python",
   "name": "python",
   "nbconvert_exporter": "python",
   "pygments_lexer": "ipython3",
   "version": "3.7.1"
  }
 },
 "nbformat": 4,
 "nbformat_minor": 2
}
